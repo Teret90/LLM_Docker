{
 "cells": [
  {
   "cell_type": "code",
   "execution_count": 13,
   "metadata": {},
   "outputs": [
    {
     "name": "stderr",
     "output_type": "stream",
     "text": [
      "ERROR: Could not find a version that satisfies the requirement prompt_template (from versions: none)\n",
      "ERROR: No matching distribution found for prompt_template\n",
      "\n",
      "[notice] A new release of pip is available: 23.2.1 -> 24.0\n",
      "[notice] To update, run: python.exe -m pip install --upgrade pip\n"
     ]
    }
   ],
   "source": [
    "#!pip install prompt_template"
   ]
  },
  {
   "cell_type": "code",
   "execution_count": 16,
   "metadata": {},
   "outputs": [
    {
     "name": "stdout",
     "output_type": "stream",
     "text": [
      "Collecting asyncpg\n",
      "  Obtaining dependency information for asyncpg from https://files.pythonhosted.org/packages/71/86/7a18e1a457afb73991e5e5586e2341af09a31c91d8f65cc003f0b4553252/asyncpg-0.29.0-cp312-cp312-win_amd64.whl.metadata\n",
      "  Downloading asyncpg-0.29.0-cp312-cp312-win_amd64.whl.metadata (4.5 kB)\n",
      "Downloading asyncpg-0.29.0-cp312-cp312-win_amd64.whl (530 kB)\n",
      "   ---------------------------------------- 0.0/530.3 kB ? eta -:--:--\n",
      "   - -------------------------------------- 20.5/530.3 kB ? eta -:--:--\n",
      "   --------------------------- ------------ 368.6/530.3 kB 7.6 MB/s eta 0:00:01\n",
      "   ---------------------------------------- 530.3/530.3 kB 6.7 MB/s eta 0:00:00\n",
      "Installing collected packages: asyncpg\n",
      "Successfully installed asyncpg-0.29.0\n"
     ]
    },
    {
     "name": "stderr",
     "output_type": "stream",
     "text": [
      "\n",
      "[notice] A new release of pip is available: 23.2.1 -> 24.0\n",
      "[notice] To update, run: python.exe -m pip install --upgrade pip\n"
     ]
    }
   ],
   "source": [
    "#!pip install asyncpg"
   ]
  },
  {
   "cell_type": "markdown",
   "metadata": {},
   "source": [
    "### Librerias y dependencias"
   ]
  },
  {
   "cell_type": "code",
   "execution_count": 1,
   "metadata": {},
   "outputs": [],
   "source": [
    "import os\n",
    "import pandas as pd\n",
    "import pickle\n",
    "from fastapi import FastAPI, HTTPException\n",
    "import uvicorn\n",
    "import sqlite3\n",
    "from cred import openai_key\n"
   ]
  },
  {
   "cell_type": "code",
   "execution_count": 7,
   "metadata": {},
   "outputs": [],
   "source": [
    "from openai import OpenAI\n",
    "from langchain_openai import ChatOpenAI\n",
    "from langchain_core.prompts import PromptTemplate"
   ]
  },
  {
   "cell_type": "markdown",
   "metadata": {},
   "source": [
    "### 1ª aproximacion para conectar con la api de OpenAI"
   ]
  },
  {
   "cell_type": "code",
   "execution_count": 4,
   "metadata": {},
   "outputs": [
    {
     "name": "stdout",
     "output_type": "stream",
     "text": [
      "Ensalada de quinoa: Mezcla quinoa cocida, aguacate, tomate, cilantro, jugo de limón, sal y pimienta. ¡Deliciosa, saludable y fácil de preparar!\n"
     ]
    }
   ],
   "source": [
    "client = OpenAI(api_key=openai_key)\n",
    "\n",
    "completion = client.chat.completions.create(\n",
    "  model=\"gpt-3.5-turbo\",\n",
    "  messages=[\n",
    "    {\"role\": \"system\", \"content\": \"Eres un gran chef y nutricionista y puedes dar recetas con menos de 30 palabras con los ingredientes que te diga en el prompt, escribes es español\"},\n",
    "    {\"role\": \"user\", \"content\": \"Dame una receta nueva\"}\n",
    "  ]\n",
    ")\n",
    "\n",
    "print(completion.choices[0].message.content)"
   ]
  },
  {
   "cell_type": "markdown",
   "metadata": {},
   "source": [
    "### 2ª aproximación para conectar con la api de OpenAi a traves del framework de langchain"
   ]
  },
  {
   "cell_type": "code",
   "execution_count": 12,
   "metadata": {},
   "outputs": [
    {
     "name": "stdout",
     "output_type": "stream",
     "text": [
      "Salteado de judías verdes con tomate: saltea las judías verdes cortadas con tomate en rodajas, ajo, aceite de oliva, sal y pimienta. Añade hierbas frescas al final. ¡Listo!\n"
     ]
    }
   ],
   "source": [
    "prompt_template = PromptTemplate.from_template(\n",
    "    \"Dime una receta nueva con estos ingredientes {ingredientes}.\"\n",
    ")\n",
    "\n",
    "llm = ChatOpenAI(api_key=openai_key)\n",
    "\n",
    "\n",
    "ingredientes_usuario = input(\"Por favor, introduce los ingredientes separados por comas: \")\n",
    "\n",
    "\n",
    "prompt_usuario = {\"role\": \"user\", \"content\": prompt_template.format(ingredientes=ingredientes_usuario)}\n",
    "\n",
    "\n",
    "respuesta = llm.invoke([{\"role\": \"system\", \"content\": \"Eres un gran chef y nutricionista y puedes dar recetas con menos de 30 palabras con los ingredientes que te diga en el prompt, escribes es español\"}, prompt_usuario])\n",
    "\n",
    "print(respuesta.content)"
   ]
  },
  {
   "cell_type": "code",
   "execution_count": 14,
   "metadata": {},
   "outputs": [
    {
     "data": {
      "text/plain": [
       "'c:\\\\Users\\\\teres\\\\Desktop\\\\Bootcamp\\\\Proyecto_LLM_Docker\\\\LLM_Docker'"
      ]
     },
     "execution_count": 14,
     "metadata": {},
     "output_type": "execute_result"
    }
   ],
   "source": [
    "os.getcwd()"
   ]
  },
  {
   "cell_type": "markdown",
   "metadata": {},
   "source": [
    "### Prueba de base de datos en local"
   ]
  },
  {
   "cell_type": "code",
   "execution_count": 15,
   "metadata": {},
   "outputs": [
    {
     "name": "stdout",
     "output_type": "stream",
     "text": [
      "Base de datos 'recetas' creada con éxito.\n"
     ]
    }
   ],
   "source": [
    "conn = sqlite3.connect('recetas.db')\n",
    "\n",
    "cursor = conn.cursor()\n",
    "\n",
    "cursor.execute('''CREATE TABLE IF NOT EXISTS recetas\n",
    "                  (prompt TEXT, respuesta TEXT)''')\n",
    "\n",
    "\n",
    "conn.commit()\n",
    "conn.close()\n",
    "\n",
    "print(\"Base de datos 'recetas' creada con éxito.\")"
   ]
  }
 ],
 "metadata": {
  "kernelspec": {
   "display_name": "Python 3",
   "language": "python",
   "name": "python3"
  },
  "language_info": {
   "codemirror_mode": {
    "name": "ipython",
    "version": 3
   },
   "file_extension": ".py",
   "mimetype": "text/x-python",
   "name": "python",
   "nbconvert_exporter": "python",
   "pygments_lexer": "ipython3",
   "version": "3.12.1"
  }
 },
 "nbformat": 4,
 "nbformat_minor": 2
}
